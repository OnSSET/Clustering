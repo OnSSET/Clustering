{
 "cells": [
  {
   "cell_type": "markdown",
   "metadata": {},
   "source": [
    "# Clustering Notebook\n",
    "\n",
    "The following notebook can be used in order to generate population settlements. The final result will include this 6 columns.\n",
    "\n",
    "**1.** id – The IDs are given as a unique number for each cluster. This enables the user to process the data contained in the clusters outside of a GIS software and then merge the data with the clusters.\n",
    "\n",
    "**2.** Country - Name of the country.\n",
    "\n",
    "**3.** Population – This is the population in each cluster obtained from the population dataset.\n",
    "\n",
    "**4.** NightLight – This value is obtained from the night-time light map and represents the maximum luminance detected in each cluster based on the latest stable light product available.\n",
    "\n",
    "**5.** ElecPop – The number of people in each cluster who live in areas in which the stable light product detect light sources.\n",
    "\n",
    "**6.** Area – The area of each cluster given in sq. kilometres.\n",
    "    \n"
   ]
  },
  {
   "cell_type": "markdown",
   "metadata": {},
   "source": [
    "## Cell 1 - Importing packages Datasets"
   ]
  },
  {
   "cell_type": "code",
   "execution_count": 1,
   "metadata": {},
   "outputs": [],
   "source": [
    "from ipynb.fs.full.funcs import *"
   ]
  },
  {
   "cell_type": "markdown",
   "metadata": {},
   "source": [
    "## Cell 1 - Selecting Datasets\n",
    "\n",
    "Select the workspace, this is the folder that will be used for the outputs. \n",
    "\n",
    "**NOTE** Select an empty folder as all the files will be deleted from the workspace once the clusters are generated\n",
    "\n",
    "You will also have to select the three datasets used in the analysis. These are:\n",
    "\n",
    "**Administrative boundaries**\n",
    "This should be disagreggated. It will be used to 1) delimit the population layer to the area of interest and 2) to limit the maximum size of the clusters\n",
    "\n",
    "**Population raster**\n",
    "\n",
    "**Night time lights**\n",
    "This will be used in order to determine how many people live in areas with visible lights. \n"
   ]
  },
  {
   "cell_type": "code",
   "execution_count": 2,
   "metadata": {},
   "outputs": [
    {
     "ename": "NameError",
     "evalue": "name 'messagebox' is not defined",
     "output_type": "error",
     "traceback": [
      "\u001b[1;31m---------------------------------------------------------------------------\u001b[0m",
      "\u001b[1;31mNameError\u001b[0m                                 Traceback (most recent call last)",
      "\u001b[1;32m<ipython-input-2-941123a85fdd>\u001b[0m in \u001b[0;36m<module>\u001b[1;34m\u001b[0m\n\u001b[1;32m----> 1\u001b[1;33m \u001b[0mmessagebox\u001b[0m\u001b[1;33m.\u001b[0m\u001b[0mshowinfo\u001b[0m\u001b[1;33m(\u001b[0m\u001b[1;34m'OnSSET extraction'\u001b[0m\u001b[1;33m,\u001b[0m \u001b[1;34m'Output folder'\u001b[0m\u001b[1;33m)\u001b[0m\u001b[1;33m\u001b[0m\u001b[1;33m\u001b[0m\u001b[0m\n\u001b[0m\u001b[0;32m      2\u001b[0m \u001b[0mworkspace\u001b[0m \u001b[1;33m=\u001b[0m \u001b[0mfiledialog\u001b[0m\u001b[1;33m.\u001b[0m\u001b[0maskdirectory\u001b[0m\u001b[1;33m(\u001b[0m\u001b[1;33m)\u001b[0m\u001b[1;33m\u001b[0m\u001b[1;33m\u001b[0m\u001b[0m\n\u001b[0;32m      3\u001b[0m \u001b[1;33m\u001b[0m\u001b[0m\n\u001b[0;32m      4\u001b[0m \u001b[0mmessagebox\u001b[0m\u001b[1;33m.\u001b[0m\u001b[0mshowinfo\u001b[0m\u001b[1;33m(\u001b[0m\u001b[1;34m'OnSSET'\u001b[0m\u001b[1;33m,\u001b[0m \u001b[1;34m'Select the population map'\u001b[0m\u001b[1;33m)\u001b[0m\u001b[1;33m\u001b[0m\u001b[1;33m\u001b[0m\u001b[0m\n\u001b[0;32m      5\u001b[0m \u001b[0mfilename_pop\u001b[0m \u001b[1;33m=\u001b[0m \u001b[0mfiledialog\u001b[0m\u001b[1;33m.\u001b[0m\u001b[0maskopenfilename\u001b[0m\u001b[1;33m(\u001b[0m\u001b[0mfiletypes\u001b[0m \u001b[1;33m=\u001b[0m \u001b[1;33m(\u001b[0m\u001b[1;33m(\u001b[0m\u001b[1;34m\"rasters\"\u001b[0m\u001b[1;33m,\u001b[0m\u001b[1;34m\"*.tif\"\u001b[0m\u001b[1;33m)\u001b[0m\u001b[1;33m,\u001b[0m\u001b[1;33m(\u001b[0m\u001b[1;34m\"all files\"\u001b[0m\u001b[1;33m,\u001b[0m\u001b[1;34m\"*.*\"\u001b[0m\u001b[1;33m)\u001b[0m\u001b[1;33m)\u001b[0m\u001b[1;33m)\u001b[0m\u001b[1;33m\u001b[0m\u001b[1;33m\u001b[0m\u001b[0m\n",
      "\u001b[1;31mNameError\u001b[0m: name 'messagebox' is not defined"
     ]
    }
   ],
   "source": [
    "messagebox.showinfo('OnSSET extraction', 'Output folder')\n",
    "workspace = filedialog.askdirectory()\n",
    "\n",
    "messagebox.showinfo('OnSSET', 'Select the population map')\n",
    "filename_pop = filedialog.askopenfilename(filetypes = ((\"rasters\",\"*.tif\"),(\"all files\",\"*.*\")))\n",
    "pop=gdal.Open(filename_pop)\n",
    "poprasterio=rasterio.open(filename_pop)\n",
    "\n",
    "messagebox.showinfo('OnSSET', 'Select the nightlights map')\n",
    "filename_NTL = filedialog.askopenfilename(filetypes = ((\"rasters\",\"*.tif\"),(\"all files\",\"*.*\")))\n",
    "NTL = gdal.Open(filename_NTL)\n",
    "NTLrasterio = rasterio.open(filename_NTL)\n",
    "\n",
    "messagebox.showinfo('OnSSET', 'Select the admin map')\n",
    "filename_admin = (filedialog.askopenfilename(filetypes = ((\"shapefile\",\"*.shp\"),(\"all files\",\"*.*\"))))\n",
    "admin=gpd.read_file(filename_admin)"
   ]
  },
  {
   "cell_type": "markdown",
   "metadata": {},
   "source": [
    "## Cell 2 - Setting study area name\n",
    "\n",
    "This will dictate the name in the final clusters"
   ]
  },
  {
   "cell_type": "code",
   "execution_count": 3,
   "metadata": {},
   "outputs": [],
   "source": [
    "country_name = \"Yemen\""
   ]
  },
  {
   "cell_type": "markdown",
   "metadata": {},
   "source": [
    "## Cell 3 - Setting the target coordinate system\n",
    "When calculating distances it is important to choose a coordinate system that represents distances correctly in your area of interst. The coordinate system that is given below is the World Mercator, these coordinate system works well for Sub Saharan Africa but the distortions get larger as you move away from the equator.\n",
    "\n",
    "In order to select your own coordinate system go to [epsg.io](http://epsg.io/) and type in your area of interest, this will give you a list of coordinate systems to choose from. Once you have selected your coordinate system replace the numbers below with the numbers from your coordinate system **(keep the \"EPSG\" part)**.\n",
    "\n",
    "**NOTE** When selecting your coordinate system make sure that you select a system with the unit of meters, this is indicated for all systems on [epsg.io](http://epsg.io/)"
   ]
  },
  {
   "cell_type": "code",
   "execution_count": 4,
   "metadata": {},
   "outputs": [],
   "source": [
    "crs = 'EPSG:3395'"
   ]
  },
  {
   "cell_type": "markdown",
   "metadata": {},
   "source": [
    "## Urban ratio\n",
    "\n",
    "Enter the urban ratio in the study area. This will be used to calibrate the urban and rural clusters.\n",
    "\n",
    "0 = everyone is rural,\n",
    "1 = everyone is urban"
   ]
  },
  {
   "cell_type": "code",
   "execution_count": 5,
   "metadata": {},
   "outputs": [],
   "source": [
    "urban_ratio = 0.473"
   ]
  },
  {
   "cell_type": "markdown",
   "metadata": {},
   "source": [
    "## Cell 4 - Clipping raster layers"
   ]
  },
  {
   "cell_type": "code",
   "execution_count": 6,
   "metadata": {},
   "outputs": [],
   "source": [
    "clipped_NTL = ClipRasterByExtent(NTL, admin, workspace)\n",
    "clipped_Pop = ClipRasterByExtent(pop, admin, workspace)"
   ]
  },
  {
   "cell_type": "markdown",
   "metadata": {},
   "source": [
    "## Cell 5 - Reclassifying rasters"
   ]
  },
  {
   "cell_type": "code",
   "execution_count": 7,
   "metadata": {},
   "outputs": [
    {
     "name": "stderr",
     "output_type": "stream",
     "text": [
      "ipynb.fs.full.funcs7:52: RuntimeWarning: invalid value encountered in greater\n",
      "ipynb.fs.full.funcs7:52: RuntimeWarning: invalid value encountered in less\n"
     ]
    }
   ],
   "source": [
    "reclassified_NTL = ReclassifyRasters(clipped_NTL)\n",
    "reclassified_Pop = ReclassifyRasters(clipped_Pop)"
   ]
  },
  {
   "cell_type": "markdown",
   "metadata": {},
   "source": [
    "## Cell 6 - Resample population raster"
   ]
  },
  {
   "cell_type": "code",
   "execution_count": 8,
   "metadata": {},
   "outputs": [],
   "source": [
    "resampled_Pop = ResampleRaster(reclassified_Pop, 3)\n",
    "saveRaster(resampled_Pop, workspace + r\"/rasterBase.tif\")"
   ]
  },
  {
   "cell_type": "markdown",
   "metadata": {},
   "source": [
    "## Cell 7 - Convert rasters to polygon"
   ]
  },
  {
   "cell_type": "code",
   "execution_count": 9,
   "metadata": {},
   "outputs": [],
   "source": [
    "NTL_pol = ToPolygon(reclassified_NTL, 2, workspace + r\"/NTLArea\")"
   ]
  },
  {
   "cell_type": "markdown",
   "metadata": {},
   "source": [
    "## Cell 8 - Creating the cluster base"
   ]
  },
  {
   "cell_type": "code",
   "execution_count": 10,
   "metadata": {},
   "outputs": [],
   "source": [
    "rasterize(admin, filename_admin,resampled_Pop, workspace + r'/raster_admin.tif')\n",
    "array_calc(workspace + r\"/rasterBase.tif\", workspace + r\"/raster_admin.tif\", workspace + r\"/rasterBase.tif\")\n",
    "clusters = ToPolygon(workspace + r\"/rasterBase.tif\", 1, workspace + r\"/clusters\")"
   ]
  },
  {
   "cell_type": "markdown",
   "metadata": {},
   "source": [
    "## Adding attributes to clusters"
   ]
  },
  {
   "cell_type": "code",
   "execution_count": 11,
   "metadata": {},
   "outputs": [],
   "source": [
    "clusters = addAttributes(clusters, crs, country_name)"
   ]
  },
  {
   "cell_type": "markdown",
   "metadata": {},
   "source": [
    "## Cell 9 - Generate ElecPop "
   ]
  },
  {
   "cell_type": "code",
   "execution_count": 12,
   "metadata": {},
   "outputs": [
    {
     "name": "stderr",
     "output_type": "stream",
     "text": [
      "ipynb.fs.full.funcs7:217: RuntimeWarning: invalid value encountered in less\n"
     ]
    }
   ],
   "source": [
    "elecPop = ClipRasterByMask(poprasterio.name, workspace + r\"/NTLArea.shp\", \"EPSG:4326\", workspace + r\"/rasterBase.tif\")"
   ]
  },
  {
   "cell_type": "markdown",
   "metadata": {},
   "source": [
    "## Cell 10 - Populating clusters"
   ]
  },
  {
   "cell_type": "code",
   "execution_count": 13,
   "metadata": {},
   "outputs": [],
   "source": [
    "clusters = populatingClusters(clusters, poprasterio, \"Pop\", \"sum\")\n",
    "clusters = populatingClusters(clusters, NTLrasterio, \"NTL\", \"max\")\n",
    "clusters = populatingClusters(clusters, elecPop, \"ElecPop\", \"sum\")"
   ]
  },
  {
   "cell_type": "markdown",
   "metadata": {},
   "source": [
    "## Cell 11 - Finalizing clusters"
   ]
  },
  {
   "cell_type": "code",
   "execution_count": 14,
   "metadata": {},
   "outputs": [],
   "source": [
    "elecPop = None\n",
    "clusters = finalizing_clusters(clusters, workspace)"
   ]
  },
  {
   "cell_type": "markdown",
   "metadata": {},
   "source": [
    "## Cell 12 - Calibrate Urban and rural split "
   ]
  },
  {
   "cell_type": "code",
   "execution_count": 15,
   "metadata": {},
   "outputs": [
    {
     "name": "stdout",
     "output_type": "stream",
     "text": [
      "modelled urban ratio is 0.47374957182337896% in comparision to the actual ratio of 0.473%\n"
     ]
    }
   ],
   "source": [
    "urbanSplit = CalibrateUrban(clusters, urban_ratio, workspace)"
   ]
  }
 ],
 "metadata": {
  "kernelspec": {
   "display_name": "Python 3",
   "language": "python",
   "name": "python3"
  },
  "language_info": {
   "codemirror_mode": {
    "name": "ipython",
    "version": 3
   },
   "file_extension": ".py",
   "mimetype": "text/x-python",
   "name": "python",
   "nbconvert_exporter": "python",
   "pygments_lexer": "ipython3",
   "version": "3.7.3"
  }
 },
 "nbformat": 4,
 "nbformat_minor": 2
}
